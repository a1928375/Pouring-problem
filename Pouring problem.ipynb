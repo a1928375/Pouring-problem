{
 "cells": [
  {
   "cell_type": "markdown",
   "metadata": {},
   "source": [
    "# Instructor \n",
    "# complicated\n",
    "# clever"
   ]
  },
  {
   "cell_type": "code",
   "execution_count": 1,
   "metadata": {},
   "outputs": [
    {
     "name": "stdout",
     "output_type": "stream",
     "text": [
      "[(0, 0), 'fill Y', (0, 5), 'X<-Y', (5, 0), 'fill Y', (5, 5), 'X<-Y', (9, 1), 'empty X', (0, 1), 'X<-Y', (1, 0), 'fill Y', (1, 5), 'X<-Y', (6, 0)]\n"
     ]
    }
   ],
   "source": [
    "def pour_problem(X, Y, goal, start=(0, 0)):\n",
    "    \"\"\"X and Y are the capacity of glasses; (x, y) is current fill levels and represents a state. The goal is a level that can \n",
    "    be in either glass. Start at start state and follow successors until we reach the goal. Keep track of frontier and \n",
    "    previously explored; fail when no frontier.\n",
    "    \"\"\"\n",
    "\n",
    "    if goal in start:                     # goal是否在start中\n",
    "        \n",
    "        return [start]\n",
    "\n",
    "    explored = set()                      # set of states we have visited\n",
    "    \n",
    "    frontier = [ [start] ]                # ordered list of paths we have blazed\n",
    "\n",
    "    while frontier:                       # frontier還有item(s)，就要繼續explore\n",
    "        \n",
    "        path = frontier.pop(0)\n",
    "        \n",
    "        (x, y) = path[-1]                 # Last state in the first path of the frontier\n",
    "        \n",
    "        for (state, action) in successors(x, y, X, Y).items():   #從successors()找出current(x,y)的下6 actions\n",
    "            \n",
    "            if state not in explored:     # don’t re-explore\n",
    "                \n",
    "                explored.add(state)       #如果沒有explore過 => 將此state加入explored\n",
    "                \n",
    "                path2 = path + [action, state]    # path2為從start到current state的完整路徑\n",
    "                \n",
    "                if goal in state:                 # path2出現goal => complete \n",
    "                    \n",
    "                    return path2\n",
    "                \n",
    "                else:\n",
    "                    \n",
    "                    frontier.append(path2)        #還沒找到goal => 把path2加入frontier => new路徑 => 待接下來繼續explore\n",
    "                    \n",
    "    return None                                   #沒有state可以達到goal\n",
    "\n",
    "def successors(x, y, X, Y):\n",
    "    \"\"\"Return a dict of {state:action} pairs describing what can be reached from the (x, y) state, and how.\"\"\"\n",
    "    \n",
    "    assert x <= X and y <= Y                      # (x, y) is current glass levels; X & Y are glass sizes\n",
    "    \n",
    "    return {((0, y+x) if y+x<=Y else (x-(Y-y), Y)):'X->Y',      #因為是dictionary，所以不會6個states都回傳 => 重覆items被更新\n",
    "            ((x+y, 0) if x+y<=X else (X, y-(X-x))):'X<-Y',      \n",
    "            (X, y):'fill X',\n",
    "            (x, Y):'fill Y',\n",
    "            (0, y):'empty X',\n",
    "            (x, 0):'empty Y'}\n",
    "\n",
    "print (pour_problem(9, 5, 6))\n"
   ]
  }
 ],
 "metadata": {
  "kernelspec": {
   "display_name": "Python 3",
   "language": "python",
   "name": "python3"
  },
  "language_info": {
   "codemirror_mode": {
    "name": "ipython",
    "version": 3
   },
   "file_extension": ".py",
   "mimetype": "text/x-python",
   "name": "python",
   "nbconvert_exporter": "python",
   "pygments_lexer": "ipython3",
   "version": "3.7.3"
  }
 },
 "nbformat": 4,
 "nbformat_minor": 2
}
